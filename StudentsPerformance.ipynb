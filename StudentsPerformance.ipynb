{
 "cells": [
  {
   "cell_type": "code",
   "execution_count": 2,
   "id": "319a2fad-e363-4dd7-8279-c2f583da27f5",
   "metadata": {},
   "outputs": [
    {
     "name": "stdout",
     "output_type": "stream",
     "text": [
      "Shape of the dataset: (1000, 8)\n",
      "Top rows of the dataset:\n",
      "    gender race/ethnicity parental level of education         lunch  \\\n",
      "0  female        group B           bachelor's degree      standard   \n",
      "1  female        group C                some college      standard   \n",
      "2  female        group B             master's degree      standard   \n",
      "3    male        group A          associate's degree  free/reduced   \n",
      "4    male        group C                some college      standard   \n",
      "\n",
      "  test preparation course  math score  reading score  writing score  \n",
      "0                    none          72             72             74  \n",
      "1               completed          69             90             88  \n",
      "2                    none          90             95             93  \n",
      "3                    none          47             57             44  \n",
      "4                    none          76             78             75  \n",
      "Random sample of rows:\n",
      "      gender race/ethnicity parental level of education         lunch  \\\n",
      "576    male        group A                some college      standard   \n",
      "79   female        group E             master's degree      standard   \n",
      "141  female        group C                some college  free/reduced   \n",
      "22     male        group D                some college      standard   \n",
      "905    male        group D                some college      standard   \n",
      "\n",
      "    test preparation course  math score  reading score  writing score  \n",
      "576               completed          61             51             52  \n",
      "79                     none          62             68             68  \n",
      "141                    none          59             62             64  \n",
      "22                     none          44             54             53  \n",
      "905                    none          88             77             77  \n",
      "Number of columns: 8\n",
      "Column names: ['gender', 'race/ethnicity', 'parental level of education', 'lunch', 'test preparation course', 'math score', 'reading score', 'writing score']\n"
     ]
    }
   ],
   "source": [
    "import pandas as pd\n",
    "\n",
    "data = pd.read_csv(\"StudentsPerformance.csv\")\n",
    "\n",
    "print(\"Shape of the dataset:\", data.shape)\n",
    "print(\"Top rows of the dataset:\\n\", data.head())\n",
    "print(\"Random sample of rows:\\n\", data.sample(5))\n",
    "print(\"Number of columns:\", len(data.columns))\n",
    "print(\"Column names:\", data.columns.tolist())"
   ]
  },
  {
   "cell_type": "code",
   "execution_count": null,
   "id": "41708aac-7264-4609-bb76-ef80ff381a1e",
   "metadata": {},
   "outputs": [],
   "source": []
  }
 ],
 "metadata": {
  "kernelspec": {
   "display_name": "Python 3 (ipykernel)",
   "language": "python",
   "name": "python3"
  },
  "language_info": {
   "codemirror_mode": {
    "name": "ipython",
    "version": 3
   },
   "file_extension": ".py",
   "mimetype": "text/x-python",
   "name": "python",
   "nbconvert_exporter": "python",
   "pygments_lexer": "ipython3",
   "version": "3.11.5"
  }
 },
 "nbformat": 4,
 "nbformat_minor": 5
}
