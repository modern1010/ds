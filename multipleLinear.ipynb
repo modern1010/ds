{
 "cells": [
  {
   "cell_type": "code",
   "execution_count": 9,
   "id": "c79691c2-310e-4da1-b00d-adcdc9f9c016",
   "metadata": {},
   "outputs": [
    {
     "name": "stdout",
     "output_type": "stream",
     "text": [
      "predictedCO2 [weight=2300kg, volume=1300ccm]:\n",
      "[107.2087328]\n",
      "Coefficient [weight, volume]\n",
      "[0.00755095 0.00780526]\n",
      "predictedCO2 [weight=3300kg, volume=1300ccm]:\n",
      "[114.75968007]\n"
     ]
    },
    {
     "name": "stderr",
     "output_type": "stream",
     "text": [
      "C:\\Users\\vishal\\AppData\\Roaming\\Python\\Python311\\site-packages\\sklearn\\base.py:464: UserWarning: X does not have valid feature names, but LinearRegression was fitted with feature names\n",
      "  warnings.warn(\n",
      "C:\\Users\\vishal\\AppData\\Roaming\\Python\\Python311\\site-packages\\sklearn\\base.py:464: UserWarning: X does not have valid feature names, but LinearRegression was fitted with feature names\n",
      "  warnings.warn(\n"
     ]
    }
   ],
   "source": [
    "import pandas as pd\n",
    "from sklearn.linear_model import LinearRegression\n",
    "\n",
    "# Read the dataset from a CSV file\n",
    "df = pd.read_csv(\"data.csv\")\n",
    "\n",
    "# Independent variables (features)\n",
    "X = df[['Weight', 'Volume']]\n",
    "\n",
    "# Dependent variable (target)\n",
    "y = df['CO2']\n",
    "\n",
    "# Create a linear regression model\n",
    "regr = LinearRegression()\n",
    "\n",
    "# Fit the model using the data\n",
    "regr.fit(X, y)\n",
    "\n",
    "# Predict the CO2 emission for a car with weight 2300kg and volume 1300ccm\n",
    "predictedCO2 = regr.predict([[2300, 1300]])\n",
    "print(\"predictedCO2 [weight=2300kg, volume=1300ccm]:\")\n",
    "print(predictedCO2)  # [107.2087328]\n",
    "\n",
    "# Display the coefficients of the model\n",
    "print(\"Coefficient [weight, volume]\")\n",
    "print(regr.coef_)  # [0.00755095 0.00780526]\n",
    "\n",
    "# Predict the CO2 emission for a car with weight 3300kg and volume 1300ccm\n",
    "predictedCO2 = regr.predict([[3300, 1300]])\n",
    "print(\"predictedCO2 [weight=3300kg, volume=1300ccm]:\")\n",
    "print(predictedCO2)\n"
   ]
  },
  {
   "cell_type": "code",
   "execution_count": null,
   "id": "3fe732d4-bfda-4942-b134-f337363e14d2",
   "metadata": {},
   "outputs": [],
   "source": []
  }
 ],
 "metadata": {
  "kernelspec": {
   "display_name": "Python 3 (ipykernel)",
   "language": "python",
   "name": "python3"
  },
  "language_info": {
   "codemirror_mode": {
    "name": "ipython",
    "version": 3
   },
   "file_extension": ".py",
   "mimetype": "text/x-python",
   "name": "python",
   "nbconvert_exporter": "python",
   "pygments_lexer": "ipython3",
   "version": "3.11.5"
  }
 },
 "nbformat": 4,
 "nbformat_minor": 5
}
