{
 "cells": [
  {
   "cell_type": "code",
   "execution_count": 5,
   "id": "ebf4e33d",
   "metadata": {},
   "outputs": [
    {
     "name": "stdout",
     "output_type": "stream",
     "text": [
      "Frequent Itemsets:\n"
     ]
    }
   ],
   "source": [
    "import pandas as pd\n",
    "from itertools import combinations\n",
    "\n",
    "# Load the Iris dataset from the local file\n",
    "iris_file_path = \"C:/Users/LJMCA/iris.data\"\n",
    "columns = [\"sepal_length\", \"sepal_width\", \"petal_length\", \"petal_width\", \"class\"]\n",
    "iris_df = pd.read_csv(iris_file_path, header=None, names=columns)\n",
    "\n",
    "# Convert the dataset into a list of transactions\n",
    "transactions = iris_df.apply(lambda x: x.astype(str).tolist(), axis=1).tolist()\n",
    "\n",
    "# Function to generate frequent itemsets\n",
    "def generate_frequent_itemsets(transactions, min_support):\n",
    "    items = list(set(item for sublist in transactions for item in sublist))\n",
    "    frequent_itemsets = [set([item]) for item in items if sum(1 for t in transactions if item in t) >= min_support]\n",
    "\n",
    "    k = 2\n",
    "    while frequent_itemsets:\n",
    "        candidate_itemsets = [set(itemset) for itemset in combinations(set.union(*frequent_itemsets), k)]\n",
    "        frequent_itemsets = [itemset for itemset in candidate_itemsets if sum(1 for t in transactions if itemset.issubset(t)) >= min_support]\n",
    "        k += 1\n",
    "\n",
    "    return frequent_itemsets\n",
    "\n",
    "# Set the minimum support threshold\n",
    "min_support = 5  # Adjust as needed\n",
    "\n",
    "# Generate frequent itemsets\n",
    "frequent_itemsets = generate_frequent_itemsets(transactions, min_support)\n",
    "\n",
    "# Display the frequent itemsets\n",
    "print(\"Frequent Itemsets:\")\n",
    "for itemset in frequent_itemsets:\n",
    "    print(f\"{itemset}\")"
   ]
  },
  {
   "cell_type": "code",
   "execution_count": null,
   "id": "8280a851",
   "metadata": {},
   "outputs": [],
   "source": []
  }
 ],
 "metadata": {
  "kernelspec": {
   "display_name": "Python 3 (ipykernel)",
   "language": "python",
   "name": "python3"
  },
  "language_info": {
   "codemirror_mode": {
    "name": "ipython",
    "version": 3
   },
   "file_extension": ".py",
   "mimetype": "text/x-python",
   "name": "python",
   "nbconvert_exporter": "python",
   "pygments_lexer": "ipython3",
   "version": "3.11.5"
  }
 },
 "nbformat": 4,
 "nbformat_minor": 5
}
